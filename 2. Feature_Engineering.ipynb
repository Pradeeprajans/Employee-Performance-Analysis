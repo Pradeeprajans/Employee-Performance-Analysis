{
 "cells": [
  {
   "cell_type": "code",
   "execution_count": 1,
   "id": "88015795-ec9e-427a-b01c-2a09eca96991",
   "metadata": {},
   "outputs": [],
   "source": [
    "# Import Libraries\n",
    "import pandas as pd\n",
    "import numpy as np\n",
    "import seaborn as sns\n",
    "import matplotlib.pyplot as plt\n",
    "from sklearn.preprocessing import LabelEncoder, MinMaxScaler\n",
    "import warnings\n",
    "warnings.filterwarnings(\"ignore\")"
   ]
  },
  {
   "cell_type": "code",
   "execution_count": 2,
   "id": "a07feb5a-90a2-4c11-b245-ca076d485cef",
   "metadata": {},
   "outputs": [],
   "source": [
    "# Load data\n",
    "df = pd.read_excel(\"Data/INX_Employee_Performance.xlsx\")"
   ]
  },
  {
   "cell_type": "markdown",
   "id": "7596f110-8d27-4e6e-b5ae-6a9e089443be",
   "metadata": {},
   "source": [
    "## --- FEATURE ENGINEERING ---\n"
   ]
  },
  {
   "cell_type": "code",
   "execution_count": 4,
   "id": "be758197-9b86-4ace-8264-655246ab11c3",
   "metadata": {},
   "outputs": [],
   "source": [
    "# Difference between total experience and current company experience\n",
    "df['ExperienceGap'] = df['TotalWorkExperienceInYears'] - df['ExperienceYearsAtThisCompany']\n"
   ]
  },
  {
   "cell_type": "code",
   "execution_count": 5,
   "id": "bc74a997-690e-4fb4-ac7d-a70524a6af6f",
   "metadata": {},
   "outputs": [],
   "source": [
    "# Average experience per company (handle divide by zero)\n",
    "df['AvgExperiencePerCompany'] = df['TotalWorkExperienceInYears'] / df['NumCompaniesWorked'].replace(0, 1)\n"
   ]
  },
  {
   "cell_type": "code",
   "execution_count": 6,
   "id": "f7606501-ead5-4335-843b-ae0e928f3631",
   "metadata": {},
   "outputs": [],
   "source": [
    "# Age Grouping\n",
    "df['AgeGroup'] = pd.cut(df['Age'], bins=[18, 25, 35, 45, 60], labels=['18-25', '26-35', '36-45', '46+'])\n"
   ]
  },
  {
   "cell_type": "code",
   "execution_count": 7,
   "id": "ee815572-fea5-4326-87d8-b6e6b581153b",
   "metadata": {},
   "outputs": [],
   "source": [
    "# Categorical Performance Rating\n",
    "df['PerformanceCategory'] = df['PerformanceRating'].apply(lambda x: 'High' if x >= 4 else ('Low' if x <= 2 else 'Medium'))\n"
   ]
  },
  {
   "cell_type": "code",
   "execution_count": 8,
   "id": "25dd4f7b-aeaf-477c-8b0b-0a9c7c6ae681",
   "metadata": {},
   "outputs": [],
   "source": [
    "# Tenure Binning\n",
    "df['TenureCategory'] = pd.cut(df['ExperienceYearsAtThisCompany'],\n",
    "                              bins=[0, 2, 5, 10, 40],\n",
    "                              labels=[\"<2yrs\", \"2-5yrs\", \"5-10yrs\", \"10yrs+\"])\n"
   ]
  },
  {
   "cell_type": "code",
   "execution_count": 9,
   "id": "064d3044-43b3-4623-b81e-a78252df3649",
   "metadata": {},
   "outputs": [],
   "source": [
    "#Before encoding copy for original data\n",
    "df_raw = df.copy()"
   ]
  },
  {
   "cell_type": "code",
   "execution_count": 10,
   "id": "63d46a30-4524-4b0e-a2f0-2a1df025fb2a",
   "metadata": {},
   "outputs": [],
   "source": [
    "# Encode Categorical Variables\n",
    "cat_cols = df.select_dtypes(include=['object', 'category']).columns\n",
    "\n",
    "le = LabelEncoder()\n",
    "for col in cat_cols:\n",
    "    df[col] = le.fit_transform(df[col])\n"
   ]
  },
  {
   "cell_type": "code",
   "execution_count": 11,
   "id": "3fb20c2f-0f6d-482d-ba7b-b668d6fea2f6",
   "metadata": {},
   "outputs": [],
   "source": [
    "# Scale Numeric Columns\n",
    "num_cols = df.select_dtypes(include=['int64', 'float64']).columns\n",
    "scaler = MinMaxScaler()\n",
    "df[num_cols] = scaler.fit_transform(df[num_cols])\n"
   ]
  },
  {
   "cell_type": "code",
   "execution_count": 12,
   "id": "c79c2110-8f59-45d8-b2ae-81127e328bef",
   "metadata": {},
   "outputs": [
    {
     "name": "stdout",
     "output_type": "stream",
     "text": [
      " Feature engineering complete. File saved as 'Employee_Data_Engineered.csv'.\n"
     ]
    }
   ],
   "source": [
    "# Save the  dataset\n",
    "df.to_csv(\"Data/Employee_Data_Engineered.csv\", index=False)\n",
    "print(\" Feature engineering complete. File saved as 'Employee_Data_Engineered.csv'.\")"
   ]
  },
  {
   "cell_type": "code",
   "execution_count": 13,
   "id": "f4a68339-0aca-4f7c-a1a3-2a119f496c5a",
   "metadata": {},
   "outputs": [
    {
     "name": "stdout",
     "output_type": "stream",
     "text": [
      " Feature engineering complete. File saved as 'Employee_Data_Before_Encoding.csv'.\n"
     ]
    }
   ],
   "source": [
    "df_raw.to_csv(\"Data/Employee_Data_Before_Encoding.csv\", index=False)\n",
    "print(\" Feature engineering complete. File saved as 'Employee_Data_Before_Encoding.csv'.\")"
   ]
  },
  {
   "cell_type": "markdown",
   "id": "b03dc58e-82a4-42c2-9eaa-94266d2d432a",
   "metadata": {},
   "source": [
    "## Feature Engineering Summary\n"
   ]
  },
  {
   "cell_type": "markdown",
   "id": "bd950074-5649-475b-bd59-e0116960e657",
   "metadata": {},
   "source": [
    "- Created ExperienceGap = TotalWorkExperienceInYears - ExperienceYearsAtThisCompany\n",
    "\n",
    "- Created AvgExperiencePerCompany to understand job-hopping tendencies\n",
    "\n",
    "- Grouped Age into ranges: 18–25, 26–35, 36–45, 46+\n",
    "\n",
    "- Transformed PerformanceRating into High, Medium, and Low\n",
    "\n",
    "- Created TenureCategory to segment employees by company loyalty\n",
    "\n",
    "- Applied Label Encoding to all categorical columns\n",
    "\n",
    "- Scaled all numeric columns using MinMaxScaler\n",
    "\n",
    "- Saved two versions of the dataset:\n",
    "\n",
    "    - Employee_Data_Engineered.csv: Engineered + Encoded + Scaled\n",
    "\n",
    "    - Employee_Data_Before_Encoding.csv: Engineered but raw (for dashboards or insights)"
   ]
  },
  {
   "cell_type": "code",
   "execution_count": null,
   "id": "49e7702a-85cd-4374-a836-345f5dc219f3",
   "metadata": {},
   "outputs": [],
   "source": []
  }
 ],
 "metadata": {
  "kernelspec": {
   "display_name": "Python 3 (ipykernel)",
   "language": "python",
   "name": "python3"
  },
  "language_info": {
   "codemirror_mode": {
    "name": "ipython",
    "version": 3
   },
   "file_extension": ".py",
   "mimetype": "text/x-python",
   "name": "python",
   "nbconvert_exporter": "python",
   "pygments_lexer": "ipython3",
   "version": "3.11.7"
  }
 },
 "nbformat": 4,
 "nbformat_minor": 5
}
