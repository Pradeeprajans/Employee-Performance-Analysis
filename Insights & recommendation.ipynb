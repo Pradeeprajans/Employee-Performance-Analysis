{
 "cells": [
  {
   "cell_type": "markdown",
   "id": "0b9fe9e5-9745-46ed-96e9-7decebe399ca",
   "metadata": {},
   "source": [
    "## Summary\n"
   ]
  },
  {
   "cell_type": "markdown",
   "id": "53051cec-6f1a-4704-bade-e3d37e8efca5",
   "metadata": {},
   "source": [
    "This notebook consolidates the key findings from my EDA, feature engineering, model building, and evaluation phases. My objective was to translate these data-driven insights into strategic recommendations aimed at enhancing employee performance and productivity at **INX Future Inc.**\n"
   ]
  },
  {
   "cell_type": "markdown",
   "id": "2ca13bbd-cca3-4026-b0ae-6a175e72bfc0",
   "metadata": {},
   "source": [
    "---\n"
   ]
  },
  {
   "cell_type": "markdown",
   "id": "3e083efc-8e24-4596-80e3-b41ee9855a5a",
   "metadata": {},
   "source": [
    "## Goals to be Achieved\n"
   ]
  },
  {
   "cell_type": "markdown",
   "id": "5ecd9c32-382f-4cc4-b754-8c195a389cb4",
   "metadata": {},
   "source": [
    "The objective of my analysis was to assist **INX Future Inc.** in understanding and improving employee performance across various departments. I focused on the following key goals:\n",
    "\n",
    "- **Conducting Department-wise Performance Analysis**  \n",
    "- **Identifying the Top Influential Features Affecting Performance**  \n",
    "- **Building a Predictive Model for Performance Rating**  \n",
    "- **Generating Actionable Recommendations for HR and Management**\n"
   ]
  },
  {
   "cell_type": "markdown",
   "id": "c44bba54-3107-4aa9-927d-6e7b7ffd6860",
   "metadata": {},
   "source": [
    "---\n"
   ]
  },
  {
   "cell_type": "markdown",
   "id": "d56ed681-e36b-4c2b-a304-5ecb61583b46",
   "metadata": {},
   "source": [
    "##  How the Goals Were Achieved\n"
   ]
  },
  {
   "cell_type": "markdown",
   "id": "c1dd54e7-1d7f-4aa6-a01e-7d8be1516eaf",
   "metadata": {},
   "source": [
    "- **Department-wise Performance Analysis**  \n",
    "  - I conducted a comprehensive Exploratory Data Analysis (EDA) to understand how performance varies across departments.  \n",
    "  - I visualized the distribution of performance based on education levels, gender, department, and other attributes.  \n",
    "  - I also analyzed key correlations between employee performance and variables such as salary, experience, and job satisfaction.\n"
   ]
  },
  {
   "cell_type": "markdown",
   "id": "ebeff00b-19eb-48e4-b195-2c8b9dfb3af4",
   "metadata": {},
   "source": [
    "- **Identification of Top Influential Features**  \n",
    "  - I trained a Random Forest Classifier and used feature importance rankings to identify the key drivers of performance.  \n",
    "  - The top 3 influential features I found were:  \n",
    "    - EmpEnvironmentSatisfaction  \n",
    "    - EmpLastSalaryHikePercent  \n",
    "    - YearsSinceLastPromotion"
   ]
  },
  {
   "cell_type": "markdown",
   "id": "554ce8ea-ec63-4620-ade5-7740080fe4fd",
   "metadata": {},
   "source": [
    "- **Predictive Model Building**  \n",
    "  - I built baseline models using Logistic Regression and Random Forest.  \n",
    "  - I performed hyperparameter tuning using GridSearchCV and handled class imbalance with SMOTE.  \n",
    "  - The **tuned Random Forest model achieved a strong accuracy of 97.91%**, demonstrating its effectiveness.\n"
   ]
  },
  {
   "cell_type": "markdown",
   "id": "b213940d-a754-4822-87b6-07a459194dd2",
   "metadata": {},
   "source": [
    "- **Actionable Recommendations**  \n",
    "  - Based on insights from EDA and modeling, I proposed actionable recommendations to support HR and management in enhancing workforce performance.\n"
   ]
  },
  {
   "cell_type": "markdown",
   "id": "d8ba34c8-cff1-4828-b6c0-1aedadf4f4e0",
   "metadata": {},
   "source": [
    "---\n"
   ]
  },
  {
   "cell_type": "markdown",
   "id": "d2a15f6b-61ef-4a1d-b55e-2cf86efb8193",
   "metadata": {},
   "source": [
    "## Key Insights\n"
   ]
  },
  {
   "cell_type": "markdown",
   "id": "f4d854cc-230e-4f9d-a871-1b6ea0e000f9",
   "metadata": {},
   "source": [
    "### 1. Performance Distribution\n",
    "- Majority of employees (~850) are rated **Level 3** – consistent output.\n",
    "- ~200 are at **Level 2**, indicating areas for development.\n",
    "- ~150 are top-tier performers rated **Level 4**.\n",
    "\n",
    "### 2. Experience and Performance\n",
    "- Best performance observed in employees with **10–15 years of experience**.\n",
    "- Slight performance dip after 15 years → possible burnout or stagnation.\n",
    "\n",
    "### 3. Education and Salary Hike\n",
    "- Employees with **technical/medical education** receive better salary hikes → alignment with compensation strategy.\n",
    "\n",
    "### 4. Department-Wise Observations\n",
    "- **Top-performing**: Development, Data Science  \n",
    "- **Mid-tier**: HR, R&D  \n",
    "- **Low-performing**: Sales, Finance → need for training/support\n",
    "\n",
    "### 5. Training Impact\n",
    "- Employees with **20+ hours of training** outperform others, especially in **R&D and Technical** roles.\n",
    "\n",
    "### 6. Demographics\n",
    "- No gender bias in ratings.  \n",
    "- Peak performers: aged **30–40** with **0–10 years at the company**.\n",
    "\n",
    "### 7. Correlation Highlight\n",
    "- Strong: YearsWithCurrManager ↔ ExperienceYearsInCurrentRole\n",
    "- Moderate: EmpEnvironmentSatisfaction ↔ EmpJobSatisfaction  \n",
    "- Weak: DistanceFromHome has negligible effect\n",
    "\n",
    "### 8. Compensation Insights\n",
    "- Higher hourly rates → higher job satisfaction  \n",
    "- Rating Level 4 → highest pay bands\n",
    "\n",
    "### 9. Managerial Relationships\n",
    "- Long tenure with manager = better performance  \n",
    "- Stable leadership boosts output"
   ]
  },
  {
   "cell_type": "markdown",
   "id": "c1716c73-3001-4c5a-9335-62ee87dfcae2",
   "metadata": {},
   "source": [
    "---\n"
   ]
  },
  {
   "cell_type": "markdown",
   "id": "971195ae-a83b-4a4b-9fec-587c188c6d10",
   "metadata": {},
   "source": [
    "## Summary of Model Performance (Updated)\n"
   ]
  },
  {
   "cell_type": "markdown",
   "id": "15e8427b-d806-4aa7-8a8b-fcb9f0396f2d",
   "metadata": {},
   "source": [
    "To evaluate the ability of various models to predict employee performance levels, I tested both a baseline model (**Logistic Regression**) and an optimized model (**Random Forest with SMOTE and hyperparameter tuning**).\n"
   ]
  },
  {
   "cell_type": "markdown",
   "id": "f81814e4-1b1e-44e8-95ab-fe12a94f2c35",
   "metadata": {},
   "source": [
    "---\n"
   ]
  },
  {
   "cell_type": "markdown",
   "id": "7f64b86d-52d2-431a-bc90-742c8844bfda",
   "metadata": {},
   "source": [
    "### Random Forest Classifier (Tuned + SMOTE)\n",
    "- **Accuracy:** 97.91%\n",
    "- **Precision (macro avg):** 97%\n",
    "- **Recall (macro avg):** 97%\n",
    "- **F1 Score (macro avg):** 97%\n"
   ]
  },
  {
   "cell_type": "markdown",
   "id": "96d739c3-a86f-4a66-a141-01f776d90826",
   "metadata": {},
   "source": [
    "**Confusion Matrix:**\n",
    "\n",
    "[ [ 25 0 2 ]\n",
    "\n",
    "[ 0 29 0 ]\n",
    "\n",
    "[ 0 3 181 ] ]"
   ]
  },
  {
   "cell_type": "markdown",
   "id": "c8486e21-3cb1-42ca-8a4f-f5f9b576c319",
   "metadata": {},
   "source": [
    "**Key Takeaways:**\n",
    "- The model performs **exceptionally well on all classes**, especially:\n",
    "  - **Class 2 (Top performers):** 99% precision, 98% recall — ideal for identifying top talent.\n",
    "  - **Class 1 (Underperformers):** Perfect recall (100%) — helps in early intervention.\n",
    "- Minimal misclassification across all classes, making this model **highly reliable** for HR decision-making.\n"
   ]
  },
  {
   "cell_type": "markdown",
   "id": "c55fd06d-f3ad-4921-81c0-75978003d3f3",
   "metadata": {},
   "source": [
    "---\n"
   ]
  },
  {
   "cell_type": "markdown",
   "id": "21c90eaa-e4a2-4c2e-a4b7-961510619af8",
   "metadata": {},
   "source": [
    "###  Logistic Regression (Baseline Model)\n",
    "- **Accuracy:** 73.33%\n",
    "- **Precision (macro avg):** 62%\n",
    "- **Recall (macro avg):** 79%\n",
    "- **F1 Score (macro avg):** 66%\n",
    "\n"
   ]
  },
  {
   "cell_type": "markdown",
   "id": "5586b70f-6f73-46dc-bd39-3ab95143e94f",
   "metadata": {},
   "source": [
    "**Confusion Matrix:**\n",
    "\n",
    "[ [ 23 0 4 ]\n",
    "\n",
    "[ 1 24 4 ]\n",
    "\n",
    "[ 21 34 129 ] ]"
   ]
  },
  {
   "cell_type": "markdown",
   "id": "4e2a52fd-2e22-4662-b722-07eeede9410f",
   "metadata": {},
   "source": [
    "**Issues Identified:**\n",
    "- Struggles to identify **underperformers and top performers**:\n",
    "  - High misclassification rate for Class 0 and Class 1\n",
    "  - Risk of missing high-value employees in Class 2\n"
   ]
  },
  {
   "cell_type": "markdown",
   "id": "b096ec52-2ce7-4cb0-8907-09951733f904",
   "metadata": {},
   "source": [
    "---\n"
   ]
  },
  {
   "cell_type": "markdown",
   "id": "7cecbdb6-88fc-4a74-b589-dae3f59b6a37",
   "metadata": {},
   "source": [
    "###  Why Random Forest is Preferred\n",
    "The **Tuned Random Forest Classifier with SMOTE** stands out due to its:\n",
    "- **High accuracy (97.91%)**\n",
    "- **Balanced performance across all classes**\n",
    "- **Exceptional ability to detect both low and high performers**\n",
    "- **Robustness to class imbalance**, thanks to SMOTE\n",
    "\n",
    "This makes it the best model for **HR to rely on for performance forecasting, intervention planning, and promotions.**\n"
   ]
  },
  {
   "cell_type": "markdown",
   "id": "3b631393-a023-43c9-9261-540a23872844",
   "metadata": {},
   "source": [
    "##  Strategic Recommendations\n"
   ]
  },
  {
   "cell_type": "markdown",
   "id": "62a15033-6a32-4e65-99ad-674535ead6d0",
   "metadata": {},
   "source": [
    "### 1. Support Level 2 Employees\n",
    "- Tailor development programs\n",
    "- Mentorship from Level 4 performers\n",
    "\n",
    "### 2. Upskill Low-Performing Departments\n",
    "- Focused training for Sales & Finance\n",
    "- Knowledge sharing from top teams\n",
    "\n",
    "### 3. Reskill Senior Staff\n",
    "- 15+ years of experience → reskilling, job rotation\n",
    "\n",
    "### 4. Align Promotions with Tenure\n",
    "- Leverage YearsSinceLastPromotion and TotalWorkExperienceInYears\n",
    "\n",
    "### 5. Reinforce Salary-Performance Link\n",
    "- Ensure fair and performance-aligned compensation structures\n",
    "\n",
    "### 6. Increase Training Hours\n",
    "- Expand 20+ hour training policies across departments\n",
    "- Promote e-learning and micro-certifications\n",
    "\n",
    "### 7. Focus on Mid-Career Talent\n",
    "- Employees with 3–7 years at INX show strong performance\n",
    "- Prioritize them for leadership roles"
   ]
  },
  {
   "cell_type": "markdown",
   "id": "f982928d-a862-4949-a0e6-8c05b6c78d7e",
   "metadata": {},
   "source": [
    "---\n"
   ]
  },
  {
   "cell_type": "markdown",
   "id": "628ddc82-ff9d-4519-bc6e-8a8bff56877f",
   "metadata": {},
   "source": [
    "## Conclusion\n"
   ]
  },
  {
   "cell_type": "markdown",
   "id": "30f01dc4-3456-47bb-a88f-9c013f209fa9",
   "metadata": {},
   "source": [
    "Through this analysis, I have demonstrated the critical role of structured training programs, stable managerial relationships, and performance-based compensation in driving employee success. By prioritizing mid-career professionals, supporting underperforming departments, and implementing reskilling initiatives for senior employees, INX Future Inc. is well-positioned to foster a culture of continuous development and enhanced productivity.\n"
   ]
  }
 ],
 "metadata": {
  "kernelspec": {
   "display_name": "Python 3 (ipykernel)",
   "language": "python",
   "name": "python3"
  },
  "language_info": {
   "codemirror_mode": {
    "name": "ipython",
    "version": 3
   },
   "file_extension": ".py",
   "mimetype": "text/x-python",
   "name": "python",
   "nbconvert_exporter": "python",
   "pygments_lexer": "ipython3",
   "version": "3.11.7"
  }
 },
 "nbformat": 4,
 "nbformat_minor": 5
}
