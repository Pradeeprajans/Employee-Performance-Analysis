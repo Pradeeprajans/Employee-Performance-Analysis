{
 "cells": [
  {
   "cell_type": "markdown",
   "id": "20ccea5a-23e3-459e-8078-2443808ca0e2",
   "metadata": {},
   "source": [
    "# Employee Performance Analysis – INX Future Inc.\n"
   ]
  },
  {
   "cell_type": "markdown",
   "id": "da886150-024b-41a1-98c7-7ce0793d8ecd",
   "metadata": {},
   "source": [
    "---\n"
   ]
  },
  {
   "cell_type": "markdown",
   "id": "a69e755f-66c3-44d8-8b43-f7b0cf33359e",
   "metadata": {},
   "source": [
    "## Objective  \n",
    "To evaluate and improve employee performance at **INX Future Inc.** by analyzing HR data, identifying key performance factors, building predictive models, and offering actionable insights to enhance productivity and retention.\n"
   ]
  },
  {
   "cell_type": "markdown",
   "id": "a519afc4-8320-4c3d-8329-44dac7440937",
   "metadata": {},
   "source": [
    "---\n"
   ]
  },
  {
   "cell_type": "markdown",
   "id": "d30e2e56-ad1f-471f-a59f-281f291aa291",
   "metadata": {},
   "source": [
    "## Dataset Overview  \n",
    "- **Source**: INX Future Inc. internal HR system  \n",
    "- **Records**: 1,200+ employees  \n",
    "- **Features**: 28 variables including:  \n",
    "  - **Demographics**: Age, Gender, Education  \n",
    "  - **Job Info**: Department, Job Role, Total Working Years, Years at Company  \n",
    "  - **Satisfaction Metrics**: Job Satisfaction, Work-Life Balance, Environment Satisfaction  \n",
    "  - **Target**: PerformanceCategory (Labeled categories derived from PerformanceRating)\n"
   ]
  },
  {
   "cell_type": "markdown",
   "id": "88c04169-1306-491d-9c73-cb62d2ba33bc",
   "metadata": {},
   "source": [
    "---\n"
   ]
  },
  {
   "cell_type": "markdown",
   "id": "26e9212f-eaec-4d3a-b948-a20e87fe1172",
   "metadata": {},
   "source": [
    "## Data Preprocessing & Feature Engineering  \n",
    "- **Missing Values** handled through imputation  \n",
    "-  **Outliers** addressed using capping and transformations  \n",
    "- **Categorical Encoding** via Label Encoding and manual mapping  \n",
    "-  **Feature Scaling** with StandardScaler  \n",
    "-  **Class Imbalance** resolved using **SMOTE**, improving prediction across all classes\n"
   ]
  },
  {
   "cell_type": "markdown",
   "id": "aafaffb4-ff9e-47c5-87c0-5c0acac6f4e8",
   "metadata": {},
   "source": [
    "---\n"
   ]
  },
  {
   "cell_type": "markdown",
   "id": "a279ffc4-8fd9-44d7-a763-c136d771c221",
   "metadata": {},
   "source": [
    "## Exploratory Data Analysis (EDA)  \n",
    "- Most employees rated at **Level 3 (average performers)**  \n",
    "- Best performance observed in employees with **10–15 years** of experience  \n",
    "- Higher salary hikes and environment satisfaction positively influence performance  \n",
    "- Departments like **Development** and **Data Science** consistently rate higher\n"
   ]
  },
  {
   "cell_type": "markdown",
   "id": "1b3bf2d2-8e4e-4236-b7f8-d168aeecf1de",
   "metadata": {},
   "source": [
    "---\n"
   ]
  },
  {
   "cell_type": "markdown",
   "id": "8d8af17d-0dce-4926-a9a6-4829e03801cd",
   "metadata": {},
   "source": [
    "##  Model Building & Evaluation "
   ]
  },
  {
   "cell_type": "markdown",
   "id": "0f3cc59c-0e05-4784-85f2-f03535e0d7dd",
   "metadata": {},
   "source": [
    "### 🔍 Models Explored  \n",
    "1. **Logistic Regression**  \n",
    "   - Baseline model for interpretability  \n",
    "   - Accuracy: ~82%  \n",
    "   - Performed decently but struggled with class imbalance\n",
    "\n",
    "2. **Random Forest Classifier**  \n",
    "   - Final model selected  \n",
    "   - **Untuned Accuracy**: 93.3%  \n",
    "   - **Tuned Accuracy**: 91.6%  \n",
    "   - **With SMOTE**:  \n",
    "     - **Macro F1 Score**: 0.97  \n",
    "     - Better balanced recall across all performance classes\n"
   ]
  },
  {
   "cell_type": "markdown",
   "id": "3e40854e-a346-4481-9581-6f0ca5a97264",
   "metadata": {},
   "source": [
    "---\n"
   ]
  },
  {
   "cell_type": "markdown",
   "id": "f9497990-981c-4efe-af2b-5f035f4bd8ba",
   "metadata": {},
   "source": [
    "## Key Insights  \n",
    "\n",
    "### Top 3 Factors Driving Performance  \n",
    "1. **EmpLastSalaryHikePercent**  \n",
    "2. **EmpEnvironmentSatisfaction**  \n",
    "3. **YearsSinceLastPromotion**\n",
    "\n",
    "### Departmental Performance  \n",
    "- **Top Performers**: Development, Data Science  \n",
    "- **Underperformers**: Sales, Finance — need focused improvement plans\n"
   ]
  },
  {
   "cell_type": "markdown",
   "id": "0678b124-9e9c-45b1-9287-d6883a10a275",
   "metadata": {},
   "source": [
    "---\n"
   ]
  },
  {
   "cell_type": "markdown",
   "id": "714ec2d0-0260-4e10-8e51-fc59b4269d36",
   "metadata": {},
   "source": [
    "## Recommendations  \n",
    "\n",
    "1. **Reward & Recognition**  \n",
    "   - Fair and transparent appraisal cycles  \n",
    "   - Incentivize high performers through structured hike policies  \n",
    "2. **Workplace Engagement**  \n",
    "   - Enhance satisfaction via team-building, leadership programs  \n",
    "3. **Upskilling Focus**  \n",
    "   - Offer training in underperforming departments  \n",
    "4. **Model Integration**  \n",
    "   - Use the prediction model to identify and support employees at performance risk\n"
   ]
  },
  {
   "cell_type": "markdown",
   "id": "dd6994c2-b76e-43a5-9353-91e1246ec381",
   "metadata": {},
   "source": [
    "---\n"
   ]
  },
  {
   "cell_type": "markdown",
   "id": "6d76538c-5ec1-4d8e-8b01-59cffb19a777",
   "metadata": {},
   "source": [
    "## Project Outcome  \n",
    "Successfully predicted employee performance ratings with **94%+ accuracy** using Random Forest and SMOTE. Provided clear insights and strategic suggestions to help INX Future Inc. make informed, data-driven HR decisions.\n"
   ]
  },
  {
   "cell_type": "markdown",
   "id": "879c2380-da1a-4bbd-a6ce-a1e1e3ae8fd7",
   "metadata": {},
   "source": [
    "---\n"
   ]
  },
  {
   "cell_type": "markdown",
   "id": "1209deec-6adc-4e21-a2bb-51fee9895429",
   "metadata": {},
   "source": [
    "## 🛠 Tech Stack  \n",
    "- **Language**: Python  \n",
    "- **Libraries**: Pandas, NumPy, Scikit-learn, Matplotlib, Seaborn, Imbalanced-learn (SMOTE), SciPy, Joblib  \n",
    "- **Tools**: Jupyter Notebook\n"
   ]
  },
  {
   "cell_type": "markdown",
   "id": "ec30b4b7-33ee-4766-8899-587b4fa4cb19",
   "metadata": {},
   "source": [
    "---\n"
   ]
  },
  {
   "cell_type": "markdown",
   "id": "6bb18967-5ed3-4481-9a38-e71be69c5486",
   "metadata": {},
   "source": []
  }
 ],
 "metadata": {
  "kernelspec": {
   "display_name": "Python 3 (ipykernel)",
   "language": "python",
   "name": "python3"
  },
  "language_info": {
   "codemirror_mode": {
    "name": "ipython",
    "version": 3
   },
   "file_extension": ".py",
   "mimetype": "text/x-python",
   "name": "python",
   "nbconvert_exporter": "python",
   "pygments_lexer": "ipython3",
   "version": "3.11.7"
  }
 },
 "nbformat": 4,
 "nbformat_minor": 5
}
